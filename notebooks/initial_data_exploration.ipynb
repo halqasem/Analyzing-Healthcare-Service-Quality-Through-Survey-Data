{
 "cells": [
  {
   "cell_type": "markdown",
   "id": "d2de0303",
   "metadata": {},
   "source": [
    "# Initial Data Exploration\n",
    "This notebook performs initial exploration of the cleaned patient survey data.\n",
    "Steps include: loading the data, viewing the first few rows, checking dimensions, listing columns, checking for missing values, and examining data types."
   ]
  },
  {
   "cell_type": "code",
   "execution_count": 1,
   "id": "8e67d6b8",
   "metadata": {},
   "outputs": [],
   "source": [
    "# Import pandas library\n",
    "import pandas as pd"
   ]
  },
  {
   "cell_type": "code",
   "execution_count": 2,
   "id": "26330ff2",
   "metadata": {},
   "outputs": [
    {
     "name": "stdout",
     "output_type": "stream",
     "text": [
      "Successfully loaded ../data/cleaned/cleaned_patient_survey_data.csv\n",
      "\n",
      "First 5 rows of the dataset:\n"
     ]
    },
    {
     "data": {
      "application/vnd.microsoft.datawrangler.viewer.v0+json": {
       "columns": [
        {
         "name": "index",
         "rawType": "int64",
         "type": "integer"
        },
        {
         "name": "governorate",
         "rawType": "object",
         "type": "string"
        },
        {
         "name": "district",
         "rawType": "object",
         "type": "string"
        },
        {
         "name": "sub_district",
         "rawType": "object",
         "type": "string"
        },
        {
         "name": "community",
         "rawType": "object",
         "type": "string"
        },
        {
         "name": "grant",
         "rawType": "object",
         "type": "unknown"
        },
        {
         "name": "health_facility",
         "rawType": "object",
         "type": "string"
        },
        {
         "name": "other_health_facility",
         "rawType": "object",
         "type": "unknown"
        },
        {
         "name": "observer_name",
         "rawType": "object",
         "type": "string"
        },
        {
         "name": "patient_age_group",
         "rawType": "object",
         "type": "string"
        },
        {
         "name": "respondent_sex",
         "rawType": "object",
         "type": "string"
        },
        {
         "name": "respondent_age_years",
         "rawType": "float64",
         "type": "float"
        },
        {
         "name": "patient_age_years",
         "rawType": "float64",
         "type": "float"
        },
        {
         "name": "is_first_visit",
         "rawType": "int64",
         "type": "integer"
        },
        {
         "name": "marital_status",
         "rawType": "object",
         "type": "string"
        },
        {
         "name": "num_children",
         "rawType": "float64",
         "type": "float"
        },
        {
         "name": "oldest_child_age",
         "rawType": "float64",
         "type": "float"
        },
        {
         "name": "difficulty_seeing",
         "rawType": "object",
         "type": "string"
        },
        {
         "name": "difficulty_hearing",
         "rawType": "object",
         "type": "string"
        },
        {
         "name": "difficulty_walking",
         "rawType": "object",
         "type": "string"
        },
        {
         "name": "difficulty_communicating",
         "rawType": "object",
         "type": "string"
        },
        {
         "name": "difficulty_remembering",
         "rawType": "object",
         "type": "string"
        },
        {
         "name": "facility_access_easy",
         "rawType": "object",
         "type": "string"
        },
        {
         "name": "facility_access_easy_reason",
         "rawType": "object",
         "type": "unknown"
        },
        {
         "name": "facility_access_not_easy_reason",
         "rawType": "object",
         "type": "unknown"
        },
        {
         "name": "facility_access_other_reason",
         "rawType": "object",
         "type": "unknown"
        },
        {
         "name": "service_discovery_method",
         "rawType": "object",
         "type": "string"
        },
        {
         "name": "service_discovery_other",
         "rawType": "object",
         "type": "unknown"
        },
        {
         "name": "facility_selection_reason",
         "rawType": "object",
         "type": "string"
        },
        {
         "name": "facility_selection_other",
         "rawType": "object",
         "type": "unknown"
        },
        {
         "name": "overall_service_quality",
         "rawType": "object",
         "type": "string"
        },
        {
         "name": "service_quality_bad_reason",
         "rawType": "object",
         "type": "unknown"
        },
        {
         "name": "services_received_list",
         "rawType": "object",
         "type": "string"
        },
        {
         "name": "service_general_clinic",
         "rawType": "int64",
         "type": "integer"
        },
        {
         "name": "service_gynecology",
         "rawType": "int64",
         "type": "integer"
        },
        {
         "name": "service_pediatric",
         "rawType": "int64",
         "type": "integer"
        },
        {
         "name": "service_nutrition",
         "rawType": "int64",
         "type": "integer"
        },
        {
         "name": "service_other_flag",
         "rawType": "int64",
         "type": "integer"
        },
        {
         "name": "Which service/s did you receive today?/5",
         "rawType": "float64",
         "type": "float"
        },
        {
         "name": "birth_services",
         "rawType": "float64",
         "type": "float"
        },
        {
         "name": "specify_others",
         "rawType": "object",
         "type": "unknown"
        },
        {
         "name": "was_charged_for_service",
         "rawType": "object",
         "type": "string"
        },
        {
         "name": "charged_service_list",
         "rawType": "object",
         "type": "unknown"
        },
        {
         "name": "charged_service_general_clinic",
         "rawType": "float64",
         "type": "float"
        },
        {
         "name": "charged_service_gynecology",
         "rawType": "float64",
         "type": "float"
        },
        {
         "name": "charged_service_pediatric",
         "rawType": "float64",
         "type": "float"
        },
        {
         "name": "charged_service_nutrition",
         "rawType": "float64",
         "type": "float"
        },
        {
         "name": "charged_service_other",
         "rawType": "float64",
         "type": "float"
        },
        {
         "name": "Are there any services you needed that were not available in this center?",
         "rawType": "object",
         "type": "string"
        },
        {
         "name": "If yes, which ones?.1",
         "rawType": "object",
         "type": "unknown"
        },
        {
         "name": "Can you mention any change in terms of your health or the health of your children, positive or negative, as a result of the services provided by this facility?",
         "rawType": "object",
         "type": "unknown"
        },
        {
         "name": "Are there any close health facility that provide these services?",
         "rawType": "object",
         "type": "string"
        },
        {
         "name": "Can you access those facilities?",
         "rawType": "object",
         "type": "unknown"
        },
        {
         "name": "if no, please explain why?",
         "rawType": "object",
         "type": "unknown"
        },
        {
         "name": "If yes, please eaxplain then why you chose to reasieve the services from this facility?",
         "rawType": "object",
         "type": "unknown"
        },
        {
         "name": "Were you prescribed any medicines?",
         "rawType": "object",
         "type": "string"
        },
        {
         "name": "If yes, did you received medicine prescribed?",
         "rawType": "object",
         "type": "unknown"
        },
        {
         "name": "Did you feel confident that you received a thorough physical exam?",
         "rawType": "object",
         "type": "string"
        },
        {
         "name": "Did the provider explain how you should use the drugs you received?",
         "rawType": "object",
         "type": "string"
        },
        {
         "name": "Did the provider explain when to return?",
         "rawType": "object",
         "type": "string"
        },
        {
         "name": "Did you receive the service you came to this facility for?",
         "rawType": "object",
         "type": "string"
        },
        {
         "name": "Mention how long it took to get the service",
         "rawType": "int64",
         "type": "integer"
        },
        {
         "name": "satisfaction_waiting_time",
         "rawType": "object",
         "type": "string"
        },
        {
         "name": "Time with the health provider",
         "rawType": "object",
         "type": "string"
        },
        {
         "name": "Privacy during examination",
         "rawType": "object",
         "type": "string"
        },
        {
         "name": "Staff attitude",
         "rawType": "object",
         "type": "string"
        },
        {
         "name": "Opening hours of the facility",
         "rawType": "object",
         "type": "string"
        },
        {
         "name": "Quality of the advice and information",
         "rawType": "object",
         "type": "string"
        },
        {
         "name": "satisfaction_procedure_treatment",
         "rawType": "object",
         "type": "string"
        },
        {
         "name": "overall_satisfaction_rating",
         "rawType": "object",
         "type": "string"
        },
        {
         "name": "overall_satisfaction_low_reason",
         "rawType": "object",
         "type": "unknown"
        },
        {
         "name": "facility_cleanliness_rating",
         "rawType": "object",
         "type": "string"
        },
        {
         "name": "facility_condition_rating",
         "rawType": "object",
         "type": "string"
        },
        {
         "name": "facility_info_displayed_rating",
         "rawType": "object",
         "type": "string"
        },
        {
         "name": "facility_private_talk_spaces_rating",
         "rawType": "object",
         "type": "string"
        },
        {
         "name": "facility_ease_of_movement_rating",
         "rawType": "object",
         "type": "string"
        },
        {
         "name": "facility_waiting_comfort_rating",
         "rawType": "object",
         "type": "string"
        },
        {
         "name": "felt_safe_traveling",
         "rawType": "object",
         "type": "string"
        },
        {
         "name": "staff_treated_respectfully",
         "rawType": "object",
         "type": "string"
        },
        {
         "name": "satisfied_with_assistance",
         "rawType": "object",
         "type": "string"
        },
        {
         "name": "know_excluded_people",
         "rawType": "object",
         "type": "string"
        },
        {
         "name": "can_channel_complaint",
         "rawType": "object",
         "type": "string"
        },
        {
         "name": "complaints_responded_to",
         "rawType": "object",
         "type": "string"
        },
        {
         "name": "views_taken_into_account",
         "rawType": "object",
         "type": "string"
        },
        {
         "name": "felt_well_informed",
         "rawType": "object",
         "type": "string"
        },
        {
         "name": "views_taken_into_account_duplicate",
         "rawType": "object",
         "type": "string"
        },
        {
         "name": "know_complaint_channels_list",
         "rawType": "object",
         "type": "string"
        },
        {
         "name": "channel_complaint_box",
         "rawType": "float64",
         "type": "float"
        },
        {
         "name": "channel_info_desk",
         "rawType": "float64",
         "type": "float"
        },
        {
         "name": "channel_ngo_staff",
         "rawType": "float64",
         "type": "float"
        },
        {
         "name": "channel_phone_line",
         "rawType": "float64",
         "type": "float"
        },
        {
         "name": "channel_whatsapp_viber",
         "rawType": "float64",
         "type": "float"
        },
        {
         "name": "channel_social_media",
         "rawType": "float64",
         "type": "float"
        },
        {
         "name": "channel_local_council",
         "rawType": "float64",
         "type": "float"
        },
        {
         "name": "channel_other_flag",
         "rawType": "float64",
         "type": "float"
        },
        {
         "name": "satisfied_with_support_general",
         "rawType": "object",
         "type": "string"
        },
        {
         "name": "support_dissatisfaction_reason",
         "rawType": "object",
         "type": "unknown"
        },
        {
         "name": "has_other_feedback",
         "rawType": "object",
         "type": "string"
        },
        {
         "name": "other_feedback_text",
         "rawType": "object",
         "type": "unknown"
        },
        {
         "name": "consent_date",
         "rawType": "object",
         "type": "string"
        },
        {
         "name": "consent_year",
         "rawType": "float64",
         "type": "float"
        },
        {
         "name": "consent_quarter",
         "rawType": "float64",
         "type": "float"
        },
        {
         "name": "consent_month",
         "rawType": "float64",
         "type": "float"
        },
        {
         "name": "consent_day",
         "rawType": "float64",
         "type": "float"
        },
        {
         "name": "consent_weekday",
         "rawType": "float64",
         "type": "float"
        },
        {
         "name": "consent_month_name",
         "rawType": "object",
         "type": "string"
        },
        {
         "name": "consent_weekday_name",
         "rawType": "object",
         "type": "string"
        }
       ],
       "conversionMethod": "pd.DataFrame",
       "ref": "a2a1682a-6dbc-4e9f-a3a0-3ca16d536213",
       "rows": [
        [
         "0",
         "Aleppo",
         "A'zaz",
         "Aghtrin",
         "Akhtrein",
         null,
         "Akhtarin Hospital",
         null,
         "محمد الدرويش",
         "Child Male",
         "female",
         "39.0",
         null,
         "1",
         "Unknown",
         null,
         null,
         "No",
         "No",
         "No",
         "No",
         "No",
         "Easy",
         null,
         null,
         null,
         "From a health care provider",
         null,
         "location/accessibility",
         null,
         "Very good",
         null,
         "pediatric",
         "0",
         "0",
         "1",
         "0",
         "0",
         null,
         null,
         null,
         "No",
         null,
         null,
         null,
         null,
         null,
         null,
         "No",
         null,
         null,
         "No",
         null,
         null,
         null,
         "Yes",
         "partially",
         "Yes",
         "Yes",
         "Yes",
         "Yes",
         "15",
         "Satisfied",
         "Satisfied",
         "Satisfied",
         "Satisfied",
         "Satisfied",
         "Satisfied",
         "Satisfied",
         "Satisfied",
         null,
         "Great",
         "Good",
         "Okay",
         "Okay",
         "Good",
         "Good",
         "Yes completely",
         "Yes completely",
         "Yes completely",
         "Not at all",
         "Yes completely",
         "Yes completely",
         "Mostly yes",
         "Mostly yes",
         "Mostly yes",
         "(whatsapp/viber) NGO staff members/volunteers",
         "0.0",
         "0.0",
         "1.0",
         "0.0",
         "1.0",
         "0.0",
         "0.0",
         "0.0",
         "yes",
         null,
         "no",
         null,
         "2024-11-17",
         "2024.0",
         "4.0",
         "11.0",
         "17.0",
         "6.0",
         "November",
         "Sunday"
        ],
        [
         "1",
         "Aleppo",
         "A'zaz",
         "Aghtrin",
         "Akhtrein",
         null,
         "Akhtarin Hospital",
         null,
         "محمد الدرويش",
         "Child Female",
         "female",
         "22.0",
         null,
         "1",
         "Unknown",
         null,
         null,
         "No",
         "No",
         "No",
         "No",
         "No",
         "Easy",
         null,
         null,
         null,
         "From a health care provider",
         null,
         "location/accessibility",
         null,
         "Good",
         null,
         "pediatric",
         "0",
         "0",
         "1",
         "0",
         "0",
         null,
         null,
         null,
         "No",
         null,
         null,
         null,
         null,
         null,
         null,
         "No",
         null,
         null,
         "No",
         null,
         null,
         null,
         "Yes",
         "partially",
         "Yes",
         "Yes",
         "Yes",
         "Yes",
         "15",
         "Satisfied",
         "Satisfied",
         "Satisfied",
         "Satisfied",
         "Satisfied",
         "Satisfied",
         "Satisfied",
         "Satisfied",
         null,
         "Good",
         "Good",
         "Okay",
         "Good",
         "Okay",
         "Okay",
         "Yes completely",
         "Yes completely",
         "Mostly yes",
         "Not at all",
         "Yes completely",
         "Mostly yes",
         "Mostly yes",
         "Mostly yes",
         "Mostly yes",
         "(whatsapp/viber)",
         "0.0",
         "0.0",
         "0.0",
         "0.0",
         "1.0",
         "0.0",
         "0.0",
         "0.0",
         "yes",
         null,
         "no",
         null,
         "2024-11-17",
         "2024.0",
         "4.0",
         "11.0",
         "17.0",
         "6.0",
         "November",
         "Sunday"
        ],
        [
         "2",
         "Aleppo",
         "A'zaz",
         "Aghtrin",
         "Akhtrein",
         null,
         "Akhtarin Hospital",
         null,
         "محمد الدرويش",
         "Child Male",
         "female",
         "22.0",
         null,
         "1",
         "Unknown",
         null,
         null,
         "No",
         "No",
         "No",
         "No",
         "No",
         "Easy",
         null,
         null,
         null,
         "From a relative or friend",
         null,
         "quality of care",
         null,
         "Good",
         null,
         "pediatric",
         "0",
         "0",
         "1",
         "0",
         "0",
         null,
         null,
         null,
         "No",
         null,
         null,
         null,
         null,
         null,
         null,
         "No",
         null,
         null,
         "No",
         null,
         null,
         null,
         "Yes",
         "partially",
         "Yes",
         "Yes",
         "Yes",
         "Yes",
         "10",
         "Satisfied",
         "Satisfied",
         "Satisfied",
         "Satisfied",
         "Satisfied",
         "somewhat satisfied",
         "somewhat satisfied",
         "somewhat satisfied",
         null,
         "Great",
         "Okay",
         "Okay",
         "Good",
         "Good",
         "Good",
         "Yes completely",
         "Yes completely",
         "Yes completely",
         "Not at all",
         "Mostly yes",
         "Yes completely",
         "Mostly yes",
         "Yes completely",
         "Mostly yes",
         "NGO staff members/volunteers (whatsapp/viber) Phone line",
         "0.0",
         "0.0",
         "1.0",
         "1.0",
         "1.0",
         "0.0",
         "0.0",
         "0.0",
         "yes",
         null,
         "yes",
         "ارجو تصليح جهاز الاشعة ",
         "2024-11-17",
         "2024.0",
         "4.0",
         "11.0",
         "17.0",
         "6.0",
         "November",
         "Sunday"
        ],
        [
         "3",
         "Aleppo",
         "A'zaz",
         "Aghtrin",
         "Akhtrein",
         null,
         "Akhtarin Hospital",
         null,
         "محمد الدرويش",
         "Child Male",
         "female",
         "26.0",
         null,
         "1",
         "Unknown",
         null,
         null,
         "No",
         "No",
         "No",
         "No",
         "No",
         "Easy",
         null,
         null,
         null,
         "From a relative or friend",
         null,
         "quality of care",
         null,
         "Good",
         null,
         "pediatric",
         "0",
         "0",
         "1",
         "0",
         "0",
         null,
         null,
         null,
         "No",
         null,
         null,
         null,
         null,
         null,
         null,
         "No",
         null,
         null,
         "No",
         null,
         null,
         null,
         "No",
         null,
         "Yes",
         "Yes",
         "Yes",
         "Yes",
         "10",
         "Satisfied",
         "Satisfied",
         "Satisfied",
         "Satisfied",
         "Satisfied",
         "Satisfied",
         "Satisfied",
         "Satisfied",
         null,
         "Great",
         "Good",
         "Good",
         "Okay",
         "Okay",
         "Okay",
         "Yes completely",
         "Yes completely",
         "Yes completely",
         "Not at all",
         "Mostly yes",
         "Mostly yes",
         "Mostly yes",
         "Mostly yes",
         "Mostly yes",
         "Complaint box",
         "1.0",
         "0.0",
         "0.0",
         "0.0",
         "0.0",
         "0.0",
         "0.0",
         "0.0",
         "yes",
         null,
         "no",
         null,
         "2024-11-17",
         "2024.0",
         "4.0",
         "11.0",
         "17.0",
         "6.0",
         "November",
         "Sunday"
        ],
        [
         "4",
         "Aleppo",
         "A'zaz",
         "Aghtrin",
         "Akhtrein",
         null,
         "Akhtarin Hospital",
         null,
         "محمد الدرويش",
         "Child Female",
         "female",
         "20.0",
         null,
         "1",
         "Unknown",
         null,
         null,
         "No",
         "No",
         "No",
         "No",
         "No",
         "Easy",
         null,
         null,
         null,
         "From a health care provider",
         null,
         "location/accessibility",
         null,
         "Very good",
         null,
         "pediatric",
         "0",
         "0",
         "1",
         "0",
         "0",
         null,
         null,
         null,
         "No",
         null,
         null,
         null,
         null,
         null,
         null,
         "No",
         null,
         null,
         "No",
         null,
         null,
         null,
         "Yes",
         "partially",
         "Yes",
         "Yes",
         "Yes",
         "Yes",
         "10",
         "Satisfied",
         "Satisfied",
         "Satisfied",
         "Satisfied",
         "Satisfied",
         "Satisfied",
         "Satisfied",
         "Satisfied",
         null,
         "Good",
         "Good",
         "Good",
         "Okay",
         "Good",
         "Good",
         "Yes completely",
         "Yes completely",
         "Mostly yes",
         "Not at all",
         "Mostly yes",
         "Yes completely",
         "Mostly yes",
         "Mostly yes",
         "Mostly yes",
         "NGO staff members/volunteers (whatsapp/viber)",
         "0.0",
         "0.0",
         "1.0",
         "0.0",
         "1.0",
         "0.0",
         "0.0",
         "0.0",
         "yes",
         null,
         "no",
         null,
         "2024-11-17",
         "2024.0",
         "4.0",
         "11.0",
         "17.0",
         "6.0",
         "November",
         "Sunday"
        ]
       ],
       "shape": {
        "columns": 106,
        "rows": 5
       }
      },
      "text/html": [
       "<div>\n",
       "<style scoped>\n",
       "    .dataframe tbody tr th:only-of-type {\n",
       "        vertical-align: middle;\n",
       "    }\n",
       "\n",
       "    .dataframe tbody tr th {\n",
       "        vertical-align: top;\n",
       "    }\n",
       "\n",
       "    .dataframe thead th {\n",
       "        text-align: right;\n",
       "    }\n",
       "</style>\n",
       "<table border=\"1\" class=\"dataframe\">\n",
       "  <thead>\n",
       "    <tr style=\"text-align: right;\">\n",
       "      <th></th>\n",
       "      <th>governorate</th>\n",
       "      <th>district</th>\n",
       "      <th>sub_district</th>\n",
       "      <th>community</th>\n",
       "      <th>grant</th>\n",
       "      <th>health_facility</th>\n",
       "      <th>other_health_facility</th>\n",
       "      <th>observer_name</th>\n",
       "      <th>patient_age_group</th>\n",
       "      <th>respondent_sex</th>\n",
       "      <th>...</th>\n",
       "      <th>has_other_feedback</th>\n",
       "      <th>other_feedback_text</th>\n",
       "      <th>consent_date</th>\n",
       "      <th>consent_year</th>\n",
       "      <th>consent_quarter</th>\n",
       "      <th>consent_month</th>\n",
       "      <th>consent_day</th>\n",
       "      <th>consent_weekday</th>\n",
       "      <th>consent_month_name</th>\n",
       "      <th>consent_weekday_name</th>\n",
       "    </tr>\n",
       "  </thead>\n",
       "  <tbody>\n",
       "    <tr>\n",
       "      <th>0</th>\n",
       "      <td>Aleppo</td>\n",
       "      <td>A'zaz</td>\n",
       "      <td>Aghtrin</td>\n",
       "      <td>Akhtrein</td>\n",
       "      <td>NaN</td>\n",
       "      <td>Akhtarin Hospital</td>\n",
       "      <td>NaN</td>\n",
       "      <td>محمد الدرويش</td>\n",
       "      <td>Child Male</td>\n",
       "      <td>female</td>\n",
       "      <td>...</td>\n",
       "      <td>no</td>\n",
       "      <td>NaN</td>\n",
       "      <td>2024-11-17</td>\n",
       "      <td>2024.0</td>\n",
       "      <td>4.0</td>\n",
       "      <td>11.0</td>\n",
       "      <td>17.0</td>\n",
       "      <td>6.0</td>\n",
       "      <td>November</td>\n",
       "      <td>Sunday</td>\n",
       "    </tr>\n",
       "    <tr>\n",
       "      <th>1</th>\n",
       "      <td>Aleppo</td>\n",
       "      <td>A'zaz</td>\n",
       "      <td>Aghtrin</td>\n",
       "      <td>Akhtrein</td>\n",
       "      <td>NaN</td>\n",
       "      <td>Akhtarin Hospital</td>\n",
       "      <td>NaN</td>\n",
       "      <td>محمد الدرويش</td>\n",
       "      <td>Child Female</td>\n",
       "      <td>female</td>\n",
       "      <td>...</td>\n",
       "      <td>no</td>\n",
       "      <td>NaN</td>\n",
       "      <td>2024-11-17</td>\n",
       "      <td>2024.0</td>\n",
       "      <td>4.0</td>\n",
       "      <td>11.0</td>\n",
       "      <td>17.0</td>\n",
       "      <td>6.0</td>\n",
       "      <td>November</td>\n",
       "      <td>Sunday</td>\n",
       "    </tr>\n",
       "    <tr>\n",
       "      <th>2</th>\n",
       "      <td>Aleppo</td>\n",
       "      <td>A'zaz</td>\n",
       "      <td>Aghtrin</td>\n",
       "      <td>Akhtrein</td>\n",
       "      <td>NaN</td>\n",
       "      <td>Akhtarin Hospital</td>\n",
       "      <td>NaN</td>\n",
       "      <td>محمد الدرويش</td>\n",
       "      <td>Child Male</td>\n",
       "      <td>female</td>\n",
       "      <td>...</td>\n",
       "      <td>yes</td>\n",
       "      <td>ارجو تصليح جهاز الاشعة</td>\n",
       "      <td>2024-11-17</td>\n",
       "      <td>2024.0</td>\n",
       "      <td>4.0</td>\n",
       "      <td>11.0</td>\n",
       "      <td>17.0</td>\n",
       "      <td>6.0</td>\n",
       "      <td>November</td>\n",
       "      <td>Sunday</td>\n",
       "    </tr>\n",
       "    <tr>\n",
       "      <th>3</th>\n",
       "      <td>Aleppo</td>\n",
       "      <td>A'zaz</td>\n",
       "      <td>Aghtrin</td>\n",
       "      <td>Akhtrein</td>\n",
       "      <td>NaN</td>\n",
       "      <td>Akhtarin Hospital</td>\n",
       "      <td>NaN</td>\n",
       "      <td>محمد الدرويش</td>\n",
       "      <td>Child Male</td>\n",
       "      <td>female</td>\n",
       "      <td>...</td>\n",
       "      <td>no</td>\n",
       "      <td>NaN</td>\n",
       "      <td>2024-11-17</td>\n",
       "      <td>2024.0</td>\n",
       "      <td>4.0</td>\n",
       "      <td>11.0</td>\n",
       "      <td>17.0</td>\n",
       "      <td>6.0</td>\n",
       "      <td>November</td>\n",
       "      <td>Sunday</td>\n",
       "    </tr>\n",
       "    <tr>\n",
       "      <th>4</th>\n",
       "      <td>Aleppo</td>\n",
       "      <td>A'zaz</td>\n",
       "      <td>Aghtrin</td>\n",
       "      <td>Akhtrein</td>\n",
       "      <td>NaN</td>\n",
       "      <td>Akhtarin Hospital</td>\n",
       "      <td>NaN</td>\n",
       "      <td>محمد الدرويش</td>\n",
       "      <td>Child Female</td>\n",
       "      <td>female</td>\n",
       "      <td>...</td>\n",
       "      <td>no</td>\n",
       "      <td>NaN</td>\n",
       "      <td>2024-11-17</td>\n",
       "      <td>2024.0</td>\n",
       "      <td>4.0</td>\n",
       "      <td>11.0</td>\n",
       "      <td>17.0</td>\n",
       "      <td>6.0</td>\n",
       "      <td>November</td>\n",
       "      <td>Sunday</td>\n",
       "    </tr>\n",
       "  </tbody>\n",
       "</table>\n",
       "<p>5 rows × 106 columns</p>\n",
       "</div>"
      ],
      "text/plain": [
       "  governorate district sub_district community grant    health_facility  \\\n",
       "0      Aleppo    A'zaz      Aghtrin  Akhtrein   NaN  Akhtarin Hospital   \n",
       "1      Aleppo    A'zaz      Aghtrin  Akhtrein   NaN  Akhtarin Hospital   \n",
       "2      Aleppo    A'zaz      Aghtrin  Akhtrein   NaN  Akhtarin Hospital   \n",
       "3      Aleppo    A'zaz      Aghtrin  Akhtrein   NaN  Akhtarin Hospital   \n",
       "4      Aleppo    A'zaz      Aghtrin  Akhtrein   NaN  Akhtarin Hospital   \n",
       "\n",
       "  other_health_facility observer_name patient_age_group respondent_sex  ...  \\\n",
       "0                   NaN  محمد الدرويش        Child Male         female  ...   \n",
       "1                   NaN  محمد الدرويش      Child Female         female  ...   \n",
       "2                   NaN  محمد الدرويش        Child Male         female  ...   \n",
       "3                   NaN  محمد الدرويش        Child Male         female  ...   \n",
       "4                   NaN  محمد الدرويش      Child Female         female  ...   \n",
       "\n",
       "   has_other_feedback      other_feedback_text  consent_date consent_year  \\\n",
       "0                  no                      NaN    2024-11-17       2024.0   \n",
       "1                  no                      NaN    2024-11-17       2024.0   \n",
       "2                 yes  ارجو تصليح جهاز الاشعة     2024-11-17       2024.0   \n",
       "3                  no                      NaN    2024-11-17       2024.0   \n",
       "4                  no                      NaN    2024-11-17       2024.0   \n",
       "\n",
       "   consent_quarter  consent_month consent_day consent_weekday  \\\n",
       "0              4.0           11.0        17.0             6.0   \n",
       "1              4.0           11.0        17.0             6.0   \n",
       "2              4.0           11.0        17.0             6.0   \n",
       "3              4.0           11.0        17.0             6.0   \n",
       "4              4.0           11.0        17.0             6.0   \n",
       "\n",
       "  consent_month_name consent_weekday_name  \n",
       "0           November               Sunday  \n",
       "1           November               Sunday  \n",
       "2           November               Sunday  \n",
       "3           November               Sunday  \n",
       "4           November               Sunday  \n",
       "\n",
       "[5 rows x 106 columns]"
      ]
     },
     "metadata": {},
     "output_type": "display_data"
    }
   ],
   "source": [
    "# Load the dataset\n",
    "# Adjust the path if your notebook is in a different location relative to the data folder\n",
    "file_path = '../data/cleaned/cleaned_patient_survey_data.csv'\n",
    "try:\n",
    "    df = pd.read_csv(file_path)\n",
    "    print(f\"Successfully loaded {file_path}\")\n",
    "except FileNotFoundError:\n",
    "    print(f\"Error: File not found at {file_path}. Please check the path.\")\n",
    "    # You might want to stop execution here or handle the error appropriately\n",
    "    df = None # Set df to None if file not found\n",
    "\n",
    "# Display the first 5 rows (only if df was loaded successfully)\n",
    "if df is not None:\n",
    "    print(\"\\nFirst 5 rows of the dataset:\")\n",
    "    display(df.head())"
   ]
  },
  {
   "cell_type": "code",
   "execution_count": 3,
   "id": "c862ac45",
   "metadata": {},
   "outputs": [
    {
     "name": "stdout",
     "output_type": "stream",
     "text": [
      "\n",
      "Dataset shape (rows, columns): (736, 106)\n"
     ]
    }
   ],
   "source": [
    "# Show the number of rows and columns (only if df was loaded successfully)\n",
    "if df is not None:\n",
    "    print(f\"\\nDataset shape (rows, columns): {df.shape}\")"
   ]
  },
  {
   "cell_type": "code",
   "execution_count": 4,
   "id": "11898191",
   "metadata": {},
   "outputs": [
    {
     "name": "stdout",
     "output_type": "stream",
     "text": [
      "\n",
      "Column names:\n",
      "['governorate', 'district', 'sub_district', 'community', 'grant', 'health_facility', 'other_health_facility', 'observer_name', 'patient_age_group', 'respondent_sex', 'respondent_age_years', 'patient_age_years', 'is_first_visit', 'marital_status', 'num_children', 'oldest_child_age', 'difficulty_seeing', 'difficulty_hearing', 'difficulty_walking', 'difficulty_communicating', 'difficulty_remembering', 'facility_access_easy', 'facility_access_easy_reason', 'facility_access_not_easy_reason', 'facility_access_other_reason', 'service_discovery_method', 'service_discovery_other', 'facility_selection_reason', 'facility_selection_other', 'overall_service_quality', 'service_quality_bad_reason', 'services_received_list', 'service_general_clinic', 'service_gynecology', 'service_pediatric', 'service_nutrition', 'service_other_flag', 'Which service/s did you receive today?/5', 'birth_services', 'specify_others', 'was_charged_for_service', 'charged_service_list', 'charged_service_general_clinic', 'charged_service_gynecology', 'charged_service_pediatric', 'charged_service_nutrition', 'charged_service_other', 'Are there any services you needed that were not available in this center?', 'If yes, which ones?.1', 'Can you mention any change in terms of your health or the health of your children, positive or negative, as a result of the services provided by this facility?', 'Are there any close health facility that provide these services?', 'Can you access those facilities?', 'if no, please explain why?', 'If yes, please eaxplain then why you chose to reasieve the services from this facility?', 'Were you prescribed any medicines?', 'If yes, did you received medicine prescribed?', 'Did you feel confident that you received a thorough physical exam?', 'Did the provider explain how you should use the drugs you received?', 'Did the provider explain when to return?', 'Did you receive the service you came to this facility for?', 'Mention how long it took to get the service', 'satisfaction_waiting_time', 'Time with the health provider', 'Privacy during examination', 'Staff attitude', 'Opening hours of the facility', 'Quality of the advice and information', 'satisfaction_procedure_treatment', 'overall_satisfaction_rating', 'overall_satisfaction_low_reason', 'facility_cleanliness_rating', 'facility_condition_rating', 'facility_info_displayed_rating', 'facility_private_talk_spaces_rating', 'facility_ease_of_movement_rating', 'facility_waiting_comfort_rating', 'felt_safe_traveling', 'staff_treated_respectfully', 'satisfied_with_assistance', 'know_excluded_people', 'can_channel_complaint', 'complaints_responded_to', 'views_taken_into_account', 'felt_well_informed', 'views_taken_into_account_duplicate', 'know_complaint_channels_list', 'channel_complaint_box', 'channel_info_desk', 'channel_ngo_staff', 'channel_phone_line', 'channel_whatsapp_viber', 'channel_social_media', 'channel_local_council', 'channel_other_flag', 'satisfied_with_support_general', 'support_dissatisfaction_reason', 'has_other_feedback', 'other_feedback_text', 'consent_date', 'consent_year', 'consent_quarter', 'consent_month', 'consent_day', 'consent_weekday', 'consent_month_name', 'consent_weekday_name']\n"
     ]
    }
   ],
   "source": [
    "# List column names (only if df was loaded successfully)\n",
    "if df is not None:\n",
    "    print(\"\\nColumn names:\")\n",
    "    print(list(df.columns))"
   ]
  },
  {
   "cell_type": "code",
   "execution_count": 5,
   "id": "282114f5",
   "metadata": {},
   "outputs": [
    {
     "name": "stdout",
     "output_type": "stream",
     "text": [
      "\n",
      "Missing values per column:\n",
      "governorate               1\n",
      "district                  1\n",
      "sub_district              1\n",
      "community                 1\n",
      "grant                   489\n",
      "                       ... \n",
      "consent_month             1\n",
      "consent_day               1\n",
      "consent_weekday           1\n",
      "consent_month_name        1\n",
      "consent_weekday_name      1\n",
      "Length: 106, dtype: int64\n"
     ]
    }
   ],
   "source": [
    "# Check for missing values (only if df was loaded successfully)\n",
    "if df is not None:\n",
    "    print(\"\\nMissing values per column:\")\n",
    "    print(df.isnull().sum())"
   ]
  },
  {
   "cell_type": "code",
   "execution_count": 6,
   "id": "7057292f",
   "metadata": {},
   "outputs": [
    {
     "name": "stdout",
     "output_type": "stream",
     "text": [
      "\n",
      "Data types of each column:\n",
      "governorate              object\n",
      "district                 object\n",
      "sub_district             object\n",
      "community                object\n",
      "grant                    object\n",
      "                         ...   \n",
      "consent_month           float64\n",
      "consent_day             float64\n",
      "consent_weekday         float64\n",
      "consent_month_name       object\n",
      "consent_weekday_name     object\n",
      "Length: 106, dtype: object\n"
     ]
    }
   ],
   "source": [
    "# Show data types of each column (only if df was loaded successfully)\n",
    "if df is not None:\n",
    "    print(\"\\nData types of each column:\")\n",
    "    print(df.dtypes)"
   ]
  }
 ],
 "metadata": {
  "kernelspec": {
   "display_name": "Python 3",
   "language": "python",
   "name": "python3"
  },
  "language_info": {
   "codemirror_mode": {
    "name": "ipython",
    "version": 3
   },
   "file_extension": ".py",
   "mimetype": "text/x-python",
   "name": "python",
   "nbconvert_exporter": "python",
   "pygments_lexer": "ipython3",
   "version": "3.13.2"
  }
 },
 "nbformat": 4,
 "nbformat_minor": 5
}
